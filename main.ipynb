{
 "cells": [
  {
   "cell_type": "code",
   "execution_count": 1,
   "metadata": {},
   "outputs": [
    {
     "name": "stdout",
     "output_type": "stream",
     "text": [
      "+------------+------------+------------+------------+------------+------------+------------+\n",
      "|    Date    |    Open    |    High    |    Low     |   Close    | Adj Close  |   Volume   |\n",
      "+------------+------------+------------+------------+------------+------------+------------+\n",
      "| 2017-11-09 | 308.644989 | 329.451996 |  307.056   | 320.884003 | 320.884003 | 893249984  |\n",
      "| 2017-11-10 | 320.67099  | 324.717987 | 294.541992 | 299.252991 | 299.252991 | 885985984  |\n",
      "| 2017-11-11 | 298.585999 | 319.453003 | 298.191986 |  314.681   |  314.681   | 842300992  |\n",
      "| 2017-11-12 | 314.690002 | 319.153015 |  298.513   | 307.90799  | 307.90799  | 1613479936 |\n",
      "| 2017-11-13 | 307.024994 | 328.415009 | 307.024994 | 316.716003 | 316.716003 | 1041889984 |\n",
      "+------------+------------+------------+------------+------------+------------+------------+\n"
     ]
    }
   ],
   "source": [
    "import pandas as pd\n",
    "from tabulate import tabulate\n",
    "\n",
    "# Load the data\n",
    "file_path = 'ETH-USD.csv'\n",
    "data = pd.read_csv(file_path)\n",
    "\n",
    "# Display the data in a tabular format\n",
    "print(tabulate(data.head(), headers='keys', tablefmt='pretty', showindex=False))\n"
   ]
  }
 ],
 "metadata": {
  "kernelspec": {
   "display_name": "Python 3",
   "language": "python",
   "name": "python3"
  },
  "language_info": {
   "codemirror_mode": {
    "name": "ipython",
    "version": 3
   },
   "file_extension": ".py",
   "mimetype": "text/x-python",
   "name": "python",
   "nbconvert_exporter": "python",
   "pygments_lexer": "ipython3",
   "version": "3.11.5"
  },
  "orig_nbformat": 4
 },
 "nbformat": 4,
 "nbformat_minor": 2
}
