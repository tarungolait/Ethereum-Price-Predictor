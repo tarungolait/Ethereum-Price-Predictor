{
 "cells": [
  {
   "cell_type": "code",
   "execution_count": 1,
   "metadata": {},
   "outputs": [
    {
     "name": "stdout",
     "output_type": "stream",
     "text": [
      "         Date        Open        High         Low       Close   Adj Close  \\\n",
      "0  2017-11-09  308.644989  329.451996  307.056000  320.884003  320.884003   \n",
      "1  2017-11-10  320.670990  324.717987  294.541992  299.252991  299.252991   \n",
      "2  2017-11-11  298.585999  319.453003  298.191986  314.681000  314.681000   \n",
      "3  2017-11-12  314.690002  319.153015  298.513000  307.907990  307.907990   \n",
      "4  2017-11-13  307.024994  328.415009  307.024994  316.716003  316.716003   \n",
      "\n",
      "       Volume  \n",
      "0   893249984  \n",
      "1   885985984  \n",
      "2   842300992  \n",
      "3  1613479936  \n",
      "4  1041889984  \n"
     ]
    }
   ],
   "source": [
    "import pandas as pd\n",
    "from tabulate import tabulate\n",
    "\n",
    "# Load the data\n",
    "file_path = 'ETH-USD.csv'\n",
    "data = pd.read_csv(file_path)\n",
    "\n",
    "# Display the data in a tabular format\n",
    "print(tabulate(data.head(), headers='keys', tablefmt='pretty', showindex=False))\n"
   ]
  }
 ],
 "metadata": {
  "kernelspec": {
   "display_name": "Python 3",
   "language": "python",
   "name": "python3"
  },
  "language_info": {
   "codemirror_mode": {
    "name": "ipython",
    "version": 3
   },
   "file_extension": ".py",
   "mimetype": "text/x-python",
   "name": "python",
   "nbconvert_exporter": "python",
   "pygments_lexer": "ipython3",
   "version": "3.11.5"
  },
  "orig_nbformat": 4
 },
 "nbformat": 4,
 "nbformat_minor": 2
}
