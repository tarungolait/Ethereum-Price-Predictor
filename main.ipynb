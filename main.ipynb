{
 "cells": [
  {
   "cell_type": "code",
   "execution_count": 4,
   "metadata": {},
   "outputs": [
    {
     "name": "stdout",
     "output_type": "stream",
     "text": [
      "+------------+------------+------------+------------+------------+------------+------------+\n",
      "|    Date    |    Open    |    High    |    Low     |   Close    | Adj Close  |   Volume   |\n",
      "+------------+------------+------------+------------+------------+------------+------------+\n",
      "| 2017-11-09 | 308.644989 | 329.451996 |  307.056   | 320.884003 | 320.884003 | 893249984  |\n",
      "| 2017-11-10 | 320.67099  | 324.717987 | 294.541992 | 299.252991 | 299.252991 | 885985984  |\n",
      "| 2017-11-11 | 298.585999 | 319.453003 | 298.191986 |  314.681   |  314.681   | 842300992  |\n",
      "| 2017-11-12 | 314.690002 | 319.153015 |  298.513   | 307.90799  | 307.90799  | 1613479936 |\n",
      "| 2017-11-13 | 307.024994 | 328.415009 | 307.024994 | 316.716003 | 316.716003 | 1041889984 |\n",
      "+------------+------------+------------+------------+------------+------------+------------+\n"
     ]
    }
   ],
   "source": [
    "import pandas as pd\n",
    "from tabulate import tabulate\n",
    "\n",
    "# Load the data\n",
    "file_path = 'ETH-USD.csv'\n",
    "data = pd.read_csv(file_path)\n",
    "\n",
    "# Display the data in a tabular format\n",
    "print(tabulate(data.head(), headers='keys', tablefmt='pretty', showindex=False))\n"
   ]
  },
  {
   "cell_type": "code",
   "execution_count": null,
   "metadata": {},
   "outputs": [],
   "source": []
  },
  {
   "cell_type": "code",
   "execution_count": 5,
   "metadata": {},
   "outputs": [
    {
     "name": "stdout",
     "output_type": "stream",
     "text": [
      "(2156, 7)\n"
     ]
    }
   ],
   "source": [
    "print(data.shape)\n"
   ]
  },
  {
   "cell_type": "code",
   "execution_count": 7,
   "metadata": {},
   "outputs": [
    {
     "name": "stdout",
     "output_type": "stream",
     "text": [
      "+-------+--------------------+--------------------+--------------------+--------------------+--------------------+--------------------+\n",
      "|       |        Open        |        High        |        Low         |       Close        |     Adj Close      |       Volume       |\n",
      "+-------+--------------------+--------------------+--------------------+--------------------+--------------------+--------------------+\n",
      "| count |       2156.0       |       2156.0       |       2156.0       |       2156.0       |       2156.0       |       2156.0       |\n",
      "| mean  | 1207.2672867328386 | 1242.5767731604824 | 1167.7876199508348 | 1207.6817813641003 | 1207.6817813641003 | 12142712919.398888 |\n",
      "|  std  | 1129.4090341017688 | 1162.2909402605314 | 1091.7100070452063 | 1128.8596664345714 | 1128.8596664345714 | 10313653403.207739 |\n",
      "|  min  |     84.279694      |     85.342743      |     82.829887      |     84.308296      |     84.308296      |    621732992.0     |\n",
      "|  25%  | 226.94063549999998 |     231.753254     |     221.228691     |     227.043842     |     227.043842     |   4611707529.25    |\n",
      "|  50%  |    762.7890015     |     796.098511     |     726.605499     |    769.2374875     |    769.2374875     |    9370346541.5    |\n",
      "|  75%  |    1833.8204345    |    1863.013916     | 1798.5461732499998 |   1833.28735375    |   1833.28735375    |   16794019127.0    |\n",
      "|  max  |    4810.071289     |     4891.70459     |    4718.039063     |    4812.087402     |    4812.087402     |   84482912776.0    |\n",
      "+-------+--------------------+--------------------+--------------------+--------------------+--------------------+--------------------+\n"
     ]
    }
   ],
   "source": [
    "from tabulate import tabulate\n",
    "\n",
    "# Display data statistics in a tabular format\n",
    "print(tabulate(data.describe(), headers='keys', tablefmt='pretty'))\n"
   ]
  },
  {
   "cell_type": "code",
   "execution_count": 10,
   "metadata": {},
   "outputs": [
    {
     "name": "stdout",
     "output_type": "stream",
     "text": [
      "<class 'pandas.core.frame.DataFrame'>\n",
      "RangeIndex: 2156 entries, 0 to 2155\n",
      "Data columns (total 7 columns):\n",
      " #   Column     Non-Null Count  Dtype  \n",
      "---  ------     --------------  -----  \n",
      " 0   Date       2156 non-null   object \n",
      " 1   Open       2156 non-null   float64\n",
      " 2   High       2156 non-null   float64\n",
      " 3   Low        2156 non-null   float64\n",
      " 4   Close      2156 non-null   float64\n",
      " 5   Adj Close  2156 non-null   float64\n",
      " 6   Volume     2156 non-null   int64  \n",
      "dtypes: float64(5), int64(1), object(1)\n",
      "memory usage: 118.0+ KB\n",
      "\n"
     ]
    }
   ],
   "source": [
    "print(tabulate(data.info(), headers='keys', tablefmt='pretty'))\n",
    "\n"
   ]
  },
  {
   "cell_type": "code",
   "execution_count": null,
   "metadata": {},
   "outputs": [],
   "source": [
    "import matplotlib.pyplot as plt\n",
    "\n",
    "plt.figure(figsize=(15, 5))\n",
    "plt.plot(data['Close'])\n",
    "plt.title('Ethereum Close Price', fontsize=15)\n",
    "plt.ylabel('Price in Dollars', fontsize=12)\n",
    "plt.xlabel('Date', fontsize=12)\n",
    "plt.grid(True)\n",
    "plt.show()\n"
   ]
  }
 ],
 "metadata": {
  "kernelspec": {
   "display_name": "Python 3",
   "language": "python",
   "name": "python3"
  },
  "language_info": {
   "codemirror_mode": {
    "name": "ipython",
    "version": 3
   },
   "file_extension": ".py",
   "mimetype": "text/x-python",
   "name": "python",
   "nbconvert_exporter": "python",
   "pygments_lexer": "ipython3",
   "version": "3.11.5"
  },
  "orig_nbformat": 4
 },
 "nbformat": 4,
 "nbformat_minor": 2
}
